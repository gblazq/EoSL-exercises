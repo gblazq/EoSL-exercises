{
 "cells": [
  {
   "cell_type": "markdown",
   "metadata": {},
   "source": [
    "# 2. Overview of supervised learning"
   ]
  },
  {
   "cell_type": "markdown",
   "metadata": {},
   "source": [
    "### Exercise 2.1\n",
    "**Suppose each of $K$-classes has an associated target $t_k$ , which is a vector of all zeros, except a one in the $k$th position. Show that classifying to the largest element of $\\hat y$ amounts to choosing the closest target,\n",
    "$$\\min_{k}\\vert\\vert t_k − \\hat y\\vert\\vert$$\n",
    "if the elements of $\\hat y$ sum to one.**"
   ]
  },
  {
   "cell_type": "markdown",
   "metadata": {},
   "source": [
    "The distance between $t_k$ and $\\hat y$ is \n",
    "$$\\vert\\vert t_k - \\hat y \\vert\\vert = \\sqrt{\\sum_i\\left(t_{k_i} - \\hat y_i\\right)^2} = \\sqrt{\\sum_{i\\neq k}\\hat y_i^2 + \\left(1 - \\hat y_k\\right)^2} = \\sqrt{1+ \\sum_i \\hat y_i^2 - 2\\hat y_k}$$"
   ]
  },
  {
   "cell_type": "markdown",
   "metadata": {},
   "source": [
    "Since $1 + \\sum_i \\hat y_i^2$ is the same for all $k$, $\\hat y$ is closest to the $t_k$ target for which $\\hat y_k$ is greatest."
   ]
  },
  {
   "cell_type": "markdown",
   "metadata": {},
   "source": [
    "This is useful in categorical predictions. For example, in letter recognition, we can generate a vector output of dimensionality equal to the number of letters in the alphabet and assign the input to the letter corresponding to the largest output value. It is not necessary that the elements of $\\hat y$ sum to one, but if they do we can interpret the $y_k$ value as the probability of the input to belong to class $k$."
   ]
  },
  {
   "cell_type": "markdown",
   "metadata": {},
   "source": [
    "### Exercise 2.2\n",
    "**Show how to compute the Bayes decision boundary for the simulation example in Figure 2.5.**"
   ]
  },
  {
   "cell_type": "code",
   "execution_count": 3,
   "metadata": {},
   "outputs": [
    {
     "data": {
      "image/png": "[encoded data removed]",
      "text/plain": [
       "<matplotlib.figure.Figure at 0x7f92b13882b0>"
      ]
     },
     "metadata": {},
     "output_type": "display_data"
    }
   ],
   "source": [
    "import numpy as np\n",
    "from numpy.random import seed, randint, rand\n",
    "from scipy.stats import multivariate_normal\n",
    "import matplotlib.pyplot as plt\n",
    "\n",
    "seed(2666)\n",
    "\n",
    "blue_m = [1,0]\n",
    "orange_m = [0,1]\n",
    "cov = np.eye(2)\n",
    "cov_points = cov/5\n",
    "n_means = 10\n",
    "\n",
    "# Generate the 10 means for each class\n",
    "blue_means = multivariate_normal(blue_m, cov).rvs(n_means)\n",
    "orange_means = multivariate_normal(orange_m, cov).rvs(n_means)\n",
    "\n",
    "\n",
    "# Generate the 100 points for each class:\n",
    "# - Draw a mean from the 10 possible means with P=1/10\n",
    "# - Draw a point from a multivariate normal with that mean and cov = eye()/5\n",
    "blue_points, orange_points = np.empty([100, 2]), np.empty([100, 2])\n",
    "\n",
    "for i in range(100):\n",
    "    k_blue, k_orange = randint(n_means), randint(n_means)\n",
    "    blue_points[i, :] = multivariate_normal(blue_means[k_blue, :], cov_points).rvs()\n",
    "    orange_points[i, :] = multivariate_normal(orange_means[k_orange, :], cov_points).rvs()\n",
    "\n",
    "# Define the function of the Bayes optimal decision boundary\n",
    "def blue_pdf(x):\n",
    "    pdf = 0\n",
    "    for i in range(10):\n",
    "        pdf += multivariate_normal(blue_means[i,:], cov_points).pdf(x)\n",
    "    return pdf\n",
    "\n",
    "def orange_pdf(x):\n",
    "    pdf = 0\n",
    "    for i in range(10):\n",
    "        pdf += multivariate_normal(orange_means[i,:], cov_points).pdf(x)\n",
    "    return pdf\n",
    "\n",
    "def pdf_subtract(x):\n",
    "    p = blue_pdf(x) - orange_pdf(x)\n",
    "    return p\n",
    "\n",
    "# Compute the irreducible error\n",
    "correct = 0\n",
    "total = 3000\n",
    "for i in range(total):\n",
    "    # Select the mean\n",
    "    mean = randint(n_means)\n",
    "    if rand() > 0.5:\n",
    "        mean = blue_means[mean]\n",
    "        color = 0\n",
    "    else:\n",
    "        mean = orange_means[mean]\n",
    "        color = 1\n",
    "\n",
    "    # Draw a point\n",
    "    point = multivariate_normal(mean, cov_points).rvs()\n",
    "\n",
    "    # Predict the color\n",
    "    if pdf_subtract(point) > 0:\n",
    "        predicted_color = 0\n",
    "    else:\n",
    "        predicted_color = 1\n",
    "\n",
    "    if predicted_color == color:\n",
    "        correct += 1\n",
    "\n",
    "irr_error_rate = 1 - correct/total\n",
    "\n",
    "# Plot the means, points and Bayes boundary\n",
    "x = np.arange(-4,4,0.025)\n",
    "y = np.arange(-4,4,0.025)\n",
    "X, Y = np.meshgrid(x, y)\n",
    "\n",
    "plt.plot(blue_means[:,0], blue_means[:,1], 'bx')\n",
    "plt.plot(orange_means[:,0], orange_means[:,1], 'rx')\n",
    "plt.plot(blue_points[:, 0], blue_points[:, 1], 'bo')\n",
    "plt.plot(orange_points[:, 0], orange_points[:, 1], 'ro')\n",
    "plt.contourf(X, Y, pdf_subtract(np.dstack((X,Y))), levels=[-np.Inf, 0, np.Inf],\n",
    "colors=('red', 'blue'), alpha=0.25)\n",
    "plt.xlim([-4, 3.975])\n",
    "plt.ylim([-4, 3.975])\n",
    "plt.xlabel('Irreducible error rate: ' + str(irr_error_rate))\n",
    "plt.show()"
   ]
  },
  {
   "cell_type": "markdown",
   "metadata": {},
   "source": [
    "### Exercise 2.3\n",
    "**Derive equation (2.24) for the median distance from the origin to the closest data point with $N$ data points uniformly distributed in a $p$-dimensional unit ball centered at the origin.**"
   ]
  },
  {
   "cell_type": "markdown",
   "metadata": {},
   "source": [
    "Let $V_p(1)$ be the volume of a $p$-dimensional unit ball. Then, the volume of a ball of radius $R$ is $V_p(R) = V_p(1) R^p$.\n",
    "\n",
    "The probability that a uniformly drawn random point will have a distance $D > d$ is proportional to the volume difference $V_p(1)(1-d^p)$. Normalizing it, we find $P(D > d) = 1-d^p$.\n",
    "\n",
    "Since each random point is drawn independently from the others,\n",
    "\n",
    "$$P(\\text{all }N\\text{ distances} > d) = P(\\text{closest distance} > d) = (1-d^p)^N.$$\n",
    "\n",
    "Then, the CDF is \n",
    "\n",
    "$$P(\\text{closest distance} \\leq d) = 1 - (1-d^p)^N,$$\n",
    "\n",
    "and the median is the value $d$ such that the CDF is $1/2$, which is \n",
    "\n",
    "$$d = \\left(1-\\frac{1}{2}^{1/N}\\right)^{1/p}.$$"
   ]
  },
  {
   "cell_type": "markdown",
   "metadata": {
    "collapsed": true
   },
   "source": [
    "Notice that we need to use $P(D > d) = 1-d^p$ because $P(\\text{all }N\\text{ distances} > d) = P(\\text{closest distance} > d)$. With  $P(D < d) = d^p$ we could compute $P(\\text{all }N\\text{ distances} < d) = P(\\text{furthest distance} < d)$."
   ]
  },
  {
   "cell_type": "markdown",
   "metadata": {},
   "source": [
    "Since we have the CDF, we can also compute the mean. The PDF is (let now $x$ be the distance)\n",
    "\n",
    "\\begin{equation}\n",
    "f(x) = \\frac{d}{dx} F(x) = pN\\left(1-x^p\\right)^{N-1}x^{p-1}\n",
    "\\end{equation}\n",
    "\n",
    "and the mean is\n",
    "\n",
    "\\begin{align}\n",
    "E[\\text{closest distance}] &= \\int_0^1{x f(x) dx} = \\int_0^1{pN\\left(1-x^p\\right)^{N-1}x^p dx} \\\\\n",
    "&= \\frac{N \\Gamma (N) \\Gamma \\left(\\frac{1}{p}\\right)}{p \\Gamma \\left(N+\\frac{1}{p}+1\\right)}\n",
    "\\end{align}\n",
    "\n",
    "For example, for $N = 500$ and $p = 10$, the median is 0.5178 and the mean 0.5110."
   ]
  },
  {
   "cell_type": "markdown",
   "metadata": {
    "collapsed": true
   },
   "source": [
    "### Exercise 2.4\n",
    "**The edge effect problem discussed on page 23 is not peculiar to uniform sampling from bounded domains. Consider inputs drawn from a spherical multinormal distribution $X \\sim N(0, \\mathbb{I}_p)$. The squared distance from any sample point to the origin has a $\\chi^2_p$ distribution with mean $p$.\n",
    "Consider a prediction point $x_0$ drawn from this distribution, and let $a = x_0 / \\vert\\vert x_0 \\vert \\vert$ be an associated unit vector.**\n",
    "\n",
    "**Let $z_i = a^T x_i$ be the projection of each of the training points on this direction. Show that the $z_i$ are distributed $N(0, 1)$ with expected squared distance from the origin 1, while the target point has expected squared distance $p$ from the origin.**"
   ]
  },
  {
   "cell_type": "markdown",
   "metadata": {},
   "source": [
    "Since the points are drawn from a spherical multinormal distribution, each of the components of a random vector $x_i$ are normally distributed\n",
    "\\begin{equation}\n",
    "x_i^j \\sim N(0, 1).\n",
    "\\end{equation}\n",
    "But due to the spherical symmetry of the distribution, we can rotate the axes, so that any of the basis unit vectors coincides with $a$. For example, we can make $e_1 = a$. Then, \n",
    "\\begin{equation}\n",
    "z_i = a^T x_i = x_i^1 \\sim N(0, 1).\n",
    "\\end{equation}\n",
    "Since the squared norm of $k$ standard normally distributed variables is a chi-squared distribution with k degrees of freedom, with mean $k$, the expected squared distance from the origin is $1$, while the target point has expected squared distance $p$."
   ]
  },
  {
   "cell_type": "markdown",
   "metadata": {},
   "source": [
    "**Hence for $p = 10$, a randomly drawn test point is about $3.1$ standard\n",
    "deviations from the origin, while all the training points are on average\n",
    "one standard deviation along direction $a$. So most prediction points see\n",
    "themselves as lying on the edge of the training set.**"
   ]
  },
  {
   "cell_type": "markdown",
   "metadata": {
    "collapsed": true
   },
   "source": [
    "### Exercise 2.5\n",
    "**(a) Derive equation (2.27). The last line makes use of (3.8) through a conditioning argument.**"
   ]
  },
  {
   "cell_type": "markdown",
   "metadata": {},
   "source": [
    "The equation we want to derive is the EPE of a regression line fitted by least squares when the actual outputs are given by\n",
    "$y_i = x_i^T\\beta + \\varepsilon_i$, with $\\varepsilon_i \\sim N(0, \\sigma^2)$.\n",
    "\n",
    "Then, the training set $\\mathcal{T}$ is given by the input matrix $X$ and the outputs $Y = X\\beta + \\varepsilon$ or, equivalently, by $X$ and $\\varepsilon$. $X$ is a $N\\times p$ matrix, $\\beta$ is a $p\\times 1$ vector, and $Y$ and $\\varepsilon$ are $N\\times 1$ vectors. $N$ is the number of observations and $p$ the total number of parameters, including the constant.\n",
    "\n",
    "Since $\\hat \\beta$ is found by least squares, it is\n",
    "\n",
    "\\begin{equation}\n",
    "\\hat \\beta = (X^T X)^{-1}X^TY = \\beta + (X^T X)^{-1}X^T\\varepsilon\n",
    "\\end{equation}\n",
    "\n",
    "so we can write\n",
    "\n",
    "\\begin{equation}\n",
    "\\hat y_0 = x_0^T\\hat \\beta = x_0^T\\beta + \\sum_{i=1}^N l_i(x_0)\\varepsilon_i\n",
    "\\end{equation}\n",
    "\n",
    "with\n",
    "\n",
    "\\begin{equation}\n",
    "l_i(x_0) = \\left[X(X^TX)^{-1}x_0\\right]_i\n",
    "\\end{equation}"
   ]
  },
  {
   "cell_type": "markdown",
   "metadata": {
    "collapsed": true
   },
   "source": [
    "We want to know the EPE as a function of $x_0$. The random variables are the training set $\\mathcal{T}$ and the output $y_0 = x_0^T\\beta + \\varepsilon_0$. We first write the two expected values explicitly, conditioning $y_0$ on $x_0$ and use the usual trick of adding and subtracting the expected value of a random variable to obtain the variance and the bias. Following the same notation of the book, we will write the conditional expected value of a general random value as $E_{y_0 \\vert x_0}\\left[f(y_0)\\right]$ and as $E\\left[y_0 \\vert x_0 \\right]$ when $f(y_0) = y_0$.\n",
    "\n",
    "\\begin{align}\n",
    "\\text{EPE}(x_0) &= E(y_0 - \\hat y_0)^2 = E_{y_0 \\vert x_0} E_\\mathcal{T} (y_0 - \\hat y_0)^2 \\\\\n",
    "&= E_{y_0 \\vert x_0} E_\\mathcal{T} \\left(y_0 - E(y_0 \\vert x_0) + E(y_0 \\vert x_0) - \\hat y_0\\right)^2 \\\\\n",
    "&= E_{y_0 \\vert x_0} E_\\mathcal{T} \\left[\\left( y_0 - E(y_0 \\vert x_0)\\right)^2 + \\left( E(y_0 \\vert x_0) - \\hat y_0\\right)^2  + 2\\left( y_0 - E(y_0 \\vert x_0)\\right)\\left( E(y_0 \\vert x_0) - \\hat y_0\\right) \\right]\n",
    "\\end{align}\n"
   ]
  },
  {
   "cell_type": "markdown",
   "metadata": {},
   "source": [
    "The last term is $2E_{y_0 \\vert x_0}\\left(y_0 - E(y_0 \\vert x_0)\\right)E_\\mathcal{T}\\left(E(y_0 \\vert x_0) - \\hat y_0\\right)$ which is 0 due to the first expected value. Moreover, the first term does not depend on the training set $\\mathcal{T}$, so it becomes a variance. In the second term we can use the same trick,\n",
    "\n",
    "\\begin{align}\n",
    "\\text{EPE}(x_0) &= E_{y_0 \\vert x_0}\\left[ y_0 - E(y_0 \\vert x_0)\\right]^2 + E_\\mathcal{T}\\left[ E(y_0 \\vert x_0) - \\hat y_0\\right]^2 \\\\\n",
    "&= \\text{Var}(y_0 \\vert x_0) + E_\\mathcal{T}\\left[ \\hat y_0 - E_\\mathcal{T}(\\hat y_0) + E_\\mathcal{T}(\\hat y_0) - E(y_0 \\vert x_0)\\right]^2 \\\\\n",
    "&= \\text{Var}(y_0 \\vert x_0) + E_\\mathcal{T}\\left[\\hat y_0 - E_\\mathcal{T}\\left(\\hat y_0\\right)\\right]^2 + E_\\mathcal{T}\\left[E_\\mathcal{T}\\left(\\hat y_0\\right) - E(y_0 \\vert x_0) \\right]^2 \\\\\n",
    "&= \\text{Var}(y_0 \\vert x_0) + E_\\mathcal{T}\\left[\\hat y_0 - E_\\mathcal{T}\\left(\\hat y_0\\right)\\right]^2 + E_\\mathcal{T}^2\\left[\\hat y_0 - x_0^T\\beta \\right] \\\\\n",
    "&= \\text{Var}(y_0 \\vert x_0) + \\text{Var}(\\hat y_0) + \\text{Bias}^2(\\hat y_0)\n",
    "\\end{align}\n"
   ]
  },
  {
   "cell_type": "markdown",
   "metadata": {},
   "source": [
    "In the last equality we have used the definition of the bias of an estimator, $\\text{Bias}(\\hat \\theta) = E\\left[\\hat \\theta - \\theta\\right]$. It is sometimes written as $\\text{Bias}(\\hat \\theta) = E\\left[\\hat \\theta\\right] - \\theta$ but *I think* the former equality is more general, and the latter is only true if $\\theta$ is not a random variable."
   ]
  },
  {
   "cell_type": "markdown",
   "metadata": {},
   "source": [
    "The first term is\n",
    "$$\n",
    "\\text{Var}(y_0 \\vert x_0) = \\text{Var}(x_0^T\\beta + \\varepsilon \\,\\vert\\, x_0) = \\text{Var}(\\varepsilon) = \\sigma^2\n",
    "$$\n",
    "The second one is, using the law of total variance,\n",
    "\n",
    "\\begin{align}\n",
    "\\text{Var}_\\mathcal{T}\\left(\\hat y_0\\right) &= \\text{Var}_\\mathcal{T}\\left(x_0^T \\hat \\beta \\right) \\\\\n",
    "&= E_X\\left[\\text{Var}_\\mathcal{\\varepsilon}\\left[x_0^T\\hat\\beta \\,\\vert\\, X\\right]\\right] + \\text{Var}_X\\left[E_\\mathcal{\\varepsilon}\\left[x_0^T\\hat\\beta \\,\\vert\\, X\\right]\\right] \\\\\n",
    "&= E_X\\left[x_0^T \\left(X^T X\\right)^{-1} x_0 \\sigma^2\\right]\n",
    "\\end{align}\n",
    "\n",
    "In the last equality we have used the expression of $\\hat \\beta$ in terms of $X$ and $\\varepsilon$ and Eq. (3.8) from the book. The last term vanishes because $E(\\varepsilon) = 0$.\n",
    "Finally, the last term in the expression for the EPE is\n",
    "\n",
    "$$\n",
    "\\text{Bias}^2\\left(\\hat y_0\\right) = \\left(E\\left[\\hat y_0\\right] - x_0^T \\beta\\right)^2 = \\left(x_0^T E\\left[\\hat \\beta\\right] - x_0^T \\beta\\right)^2\n",
    "$$\n",
    "\n",
    "Using again the expression for $\\hat \\beta$ in terms of $X$ and $\\varepsilon$ and conditioning on $X$,\n",
    "\n",
    "$$\n",
    "E\\left[\\hat \\beta\\right] = E\\left[\\beta + \\left(X^T X\\right)^{-1}\\varepsilon\\right] = \\beta + E_X\\left[E_\\varepsilon\\left[\\left(X^TX\\right)^{-1}X^T\\varepsilon \\,\\vert\\, X\\right]\\right] = \\beta\n",
    "$$\n",
    "\n",
    "Then, the bias is 0 and the EPE is\n",
    "\n",
    "\\begin{align}\n",
    "EPE(x_0) &= \\text{Var}(y_0 \\vert x_0) + \\text{Var}(\\hat y_0) + \\text{Bias}^2(\\hat y_0) \\\\\n",
    "&= \\sigma^2 + E_X\\left[x_0^T \\left(X^T X\\right)^{-1} x_0 \\sigma^2\\right]\n",
    "\\end{align}\n"
   ]
  },
  {
   "cell_type": "markdown",
   "metadata": {
    "collapsed": true
   },
   "source": [
    "**(b) Derive equation (2.28), making use of the cyclic property of the trace operator [trace(AB) = trace(BA)], and its linearity (which allows us to interchange the order of trace and expectation).**\n",
    "\n",
    "Remember that $X$ is an $N\\times p$ matrix,\n",
    "\n",
    "$$\n",
    "X =\n",
    "\\begin{pmatrix}\n",
    "x^T_1 \\\\ x^T_2 \\\\ \\vdots \\\\ x^T_N\n",
    "\\end{pmatrix}\n",
    "$$\n",
    "\n",
    "so\n",
    "\n",
    "$$\n",
    "X^TX = \\begin{pmatrix}\n",
    "x_1 & x_2 & \\ldots & x_N\n",
    "\\end{pmatrix}\\begin{pmatrix}\n",
    "x^T_1 \\\\ x^T_2 \\\\ \\vdots \\\\ x^T_N\n",
    "\\end{pmatrix} = \\sum_{i=1}^N{x_i x^T_i}\n",
    "$$\n",
    "\n",
    "The covariance matrix of a random variable $Z$ is defined as $\\text{Cov}(Z) = E(ZZ^T) - E(Z)E(Z^T)$. Since we are assuming $E(x) = 0$, and all the $x$ vectors are drawn from the same distribution,\n",
    "\n",
    "$$\n",
    "E(X^TX) = NE(x x^T) = N\\text{Cov}(x)\n",
    "$$\n",
    "\n",
    "**Warning: in general, $E(f(X)) \\neq f(E(X))$, so in principle $E\\left[(X^TX)^{-1}\\right] \\neq \\left[E(X^TX)\\right]^{-1}$, but it seems that's what they are doing in the book. It could be related to the fact that we are taking the $N\\rightarrow \\infty$ limit, but I'm not sure.\n",
    "The solution may go as follows:\n",
    "**\n",
    "\n",
    "$$\n",
    "E\\left[(X^TX)^{-1}\\right] = E\\left[\\left(N xx^T\\right)^{-1}\\right]\n",
    "$$\n",
    "\n",
    "$xx^T$ is positive definite, which *probably* means that we can use some sort of Taylor expansion with leading term $1/E(Nxx^T)$ and higher order terms suppresed by powers of 1/N. This is suggested [here](https://stats.stackexchange.com/a/80884) but there are also commments arguing against it.\n",
    "\n",
    "In any case, assuming the approximation is valid,\n",
    "\n",
    "\\begin{align}\n",
    "E_{x_0} EPE(x_0) &= E_{x_0}\\left[\\sigma^2 + E\\left[x_0^T\\left(X^TX\\right)^{-1} x_0 \\sigma^2\\right]\\right] \\\\\n",
    "&\\simeq \\sigma^2 + \\frac{\\sigma^2}{N}E_{x_0}\\left[x_0^T\\text{Cov}(x)^{-1}x_0\\right]\n",
    "\\end{align}\n",
    "\n",
    "Since $x_0^T\\text{Cov}(x)^{-1}x_0$ is a scalar, it is its own trace. Using the cyclic property of the trace and its linearity\n",
    "\n",
    "$$\n",
    "E_{x_0}\\left[x_0^T\\text{Cov}(x)^{-1}x_0\\right] = E_{x_0}\\left[\\text{Tr}\\left(\\text{Cov}(x)^{-1}x_0x_0^T\\right)\\right] = \\text{Tr}\\left[\\text{Cov}(x)^{-1} E_{x_0}\\left(x_0 x_0^T\\right)\\right] = \\text{Tr}\\left[\\text{Cov}(x)^{-1}\\text{Cov}(x_0)\\right]\n",
    "$$\n",
    "\n",
    "Since the training points $x$ and the test point $x_0$ are drawn from the same distribution, we are left with the trace over the $p\\times p$ identity matrix, which is $p$, so\n",
    "\n",
    "$$\n",
    "E_{x_0} EPE(x_0) \\simeq \\sigma^2 + \\frac{\\sigma^2}{N} p\n",
    "$$\n",
    "\n",
    "for large $N$."
   ]
  },
  {
   "cell_type": "markdown",
   "metadata": {},
   "source": [
    "### Exercise 2.6\n",
    "**Consider a regression problem with inputs $x_i$ and outputs $y_i$, and a parameterized model $f_\\theta(x)$ to be fit by least squares. Show that if there are observations with *tied* or *identical* values of $x$, then the fit can be obtained from a reduced weighted least squares problem.**"
   ]
  },
  {
   "cell_type": "markdown",
   "metadata": {},
   "source": [
    "The result is independent of the model $f_\\theta$, as long as we fit $\\hat \\theta$ by least squares:\n",
    "\n",
    "$$\n",
    "\\hat \\theta = \\text{argmin}_\\theta \\sum_i \\left(f_\\theta(x_i) - y_i\\right)^2\n",
    "$$\n",
    "\n",
    "Let's assume there are $n$ observations of $x_j$ with outputs $y_{j_1} \\ldots y_{j_n}$. Then, $\\hat \\theta$ is\n",
    "\n",
    "\\begin{align}\n",
    "\\hat \\theta &= \\text{argmin}_\\theta \\left[\\sum_{i\\neq j}\\left(f_\\theta(x_i) - y_i\\right)^2 + \\sum_{k=1}^n\\left(f_\\theta(x_j) - y_{j_k}\\right)^2\\right] \\\\\n",
    "&= \\text{argmin}_\\theta \\left[\\sum_{i\\neq j}\\left(f_\\theta(x_i) - y_i\\right)^2 + \\sum_{k=1}^n\\left(f_\\theta(x_j)^2 -2f_\\theta(x_j)y_{j_k} + y_{j_k}^2\\right)\\right] \\\\\n",
    "&= \\text{argmin}_\\theta \\left[\\sum_{i\\neq j}\\left(f_\\theta(x_i) - y_i\\right)^2 + nf_\\theta(x_j)^2 -2f_\\theta(x_j)\\sum_{k=1}^n y_{j_k} + \\sum_{k=1}^n y_{j_k}^2\\right] \\\\\n",
    "&= \\text{argmin}_\\theta \\left[\\sum_{i\\neq j}\\left(f_\\theta(x_i) - y_i\\right)^2 + nf_\\theta(x_j)^2 -2f_\\theta(x_j)\\sum_{k=1}^n y_{j_k}\\right]\n",
    "\\end{align}\n",
    "\n",
    "In the last equality we have dropped the term that doesn't depend on $\\theta$. We can generalize this expression to the case in which there is more than one group of tied inputs. In general, it will be\n",
    "\n",
    "$$\n",
    "\\hat \\theta = \\text{argmin}_\\theta \\sum_i \\left(n_i f_\\theta(x_i)^2 - 2f_\\theta(x_i)\\sum_{k=1}^{n_i} y_{i_k} \\right)\n",
    "$$\n",
    "\n",
    "with $x_i$ each unique input, $n_i$ its degeneracy and $y_{i_k}$ the corresponding $n_i$ outputs.\n",
    "\n",
    "This is the same as a reduced weighted least squares fit with the degeneracy of each input as the weights, and the average of each group of outputs as the targets:\n",
    "\n",
    "\\begin{align}\n",
    "\\hat \\theta &= \\text{argmin}_\\theta \\sum_i n_i\\left(f_\\theta(x_i) - \\bar y_i\\right)^2 \\\\\n",
    "&= \\text{argmin}_\\theta \\sum_i \\left(n_i f_\\theta(x_i)^2 -2n_i f_\\theta(x_i)\\bar y_i + n_i \\left(\\bar y_i\\right)^2\\right) \\\\\n",
    "&= \\text{argmin}_\\theta \\sum_i \\left(n_i f_\\theta(x_i)^2 -2 f_\\theta(x_i)\\sum_{k=1}^{n_i} y_{i_k}\\right)\n",
    "\\end{align}"
   ]
  },
  {
   "cell_type": "markdown",
   "metadata": {
    "collapsed": true
   },
   "source": [
    "### Exercise 2.7\n",
    "\n",
    "**Suppose we have a sample of $N$ pairs $x_i$, $y_i$ drawn i.i.d. from the distribution characterized as follows:**\n",
    "* **$x_i \\sim h(x)$, the design density**\n",
    "* **$y_i = f(x_i) + ε_i$, $f$ is the regression function**\n",
    "* **$\\varepsilon_i \\sim (0, \\sigma^2)$ (mean zero, variance $\\sigma^2$)**\n",
    "\n",
    "**We construct an estimator for $f$ linear in the $y_i$,\n",
    "$$\n",
    "\\hat f(x_0) = \\sum_{i=1}^N l_i(x_0; \\mathcal{X}) y_i,\n",
    "$$\n",
    "where the weights $l_i(x_0; \\mathcal{X})$ do not depend on the $y_i$, but do depend on the entire training sequence of $x_i$, denoted here by $\\mathcal{X}$.**\n",
    "\n",
    "**(a) Show that linear regression and k-nearest-neighbor regression are members of this class of estimators. Describe explicitly the weights $l_i(x_0; \\mathcal{X})$ in each of these cases.**"
   ]
  },
  {
   "cell_type": "markdown",
   "metadata": {},
   "source": [
    "In a linear regression, an output is\n",
    "\n",
    "$$\n",
    "\\hat y(x_0) = x_0^T \\hat \\beta = x_0^T\\left(X^T X\\right)^{-1} X^T Y = \\left(x_0^T\\left(X^T X\\right)^{-1} X^T)\\right)_i Y_i\n",
    "$$\n",
    "\n",
    "so it is an estimator of this kind with weights\n",
    "\n",
    "$$\n",
    "l_i(x_0; \\mathcal{X}) = \\left(x_0^T\\left(X^T X\\right)^{-1} X^T\\right)_i\n",
    "$$\n",
    "\n",
    "In a k-NN method, we compute $\\hat y(x_0)$ as the mean of the outputs of the k nearest neighbors of $x_0$. Then, it is also an estimator of this kind with weights\n",
    "\n",
    "$$\n",
    "l_i(x_0; \\mathcal{X}) = \\begin{cases}\\frac{1}{k} \\text{ if $x_i \\in N_k(x_0)$} \\\\ 0 \\text{ otherwise} \\end{cases}\n",
    "$$\n"
   ]
  },
  {
   "cell_type": "markdown",
   "metadata": {
    "collapsed": true
   },
   "source": [
    "**(b) Decompose the conditional mean-squared error\n",
    "$$\n",
    "E_{\\mathcal{Y} \\vert \\mathcal{X}}\\left(f(x_0) - \\hat f(x_0)\\right)^2\n",
    "$$\n",
    "into a conditional squared bias and a conditional variance component. Like $\\mathcal{X}$, $\\mathcal{Y}$ represents the entire training sequence of $y_i$.**\n",
    "\n",
    "There are two random variables, $\\mathcal{X}$ and $\\mathcal{Y}$ (or $\\mathcal{X}$ and $\\varepsilon$). $f(x_0)$ is a deterministic unknown function, and $\\hat f(x_0)$ is a random variable which depends on $\\mathcal{X}$ and $\\mathcal{Y}$ as\n",
    "\n",
    "$$\n",
    "\\hat f(x_0) = \\sum_{i=1}^N l_i\\left(x_0;\\mathcal{X}\\right)y_i.\n",
    "$$\n",
    "\n",
    "We assume that the mean-squared error is conditioned on $x_0$. We can compute the expected values $E\\left[\\hat f(x_0)\\right]$ and $E\\left[\\hat f(x_0)\\,\\vert\\mathcal{X}\\right]$ (they are also conditioned on $x_0$, but I won't write it for simplicity). Using the usual trick of adding and subtracting the expected value of the random variable in the MSE, we find\n",
    "\n",
    "\\begin{align}\n",
    "E_{\\mathcal{Y}\\vert\\mathcal{X}}\\left[\\left(f(x_0) - \\hat f(x_0)\\right)^2\\right] &= E_{\\mathcal{Y}\\vert\\mathcal{X}}\\left[\\left(f(x_0) - E_{\\mathcal{Y}\\vert\\mathcal{X}}\\left[\\hat f(x_0)\\right] + E_{\\mathcal{Y}\\vert\\mathcal{X}}\\left[\\hat f(x_0)\\right] - \\hat f(x_0)\\right)^2\\right]\\\\\n",
    "&= E_{\\mathcal{Y}\\vert\\mathcal{X}}^2\\left[f(x_0) - E_{\\mathcal{Y}\\vert\\mathcal{X}}\\left[\\hat f(x_0)\\right]\\right] + E_{\\mathcal{Y}\\vert\\mathcal{X}}\\left[\\left(E_{\\mathcal{Y}\\vert\\mathcal{X}}\\left[\\hat f(x_0)\\right] - \\hat f(x_0)\\right)^2\\right] \\\\\n",
    "&= \\text{Bias}^2\\left[\\hat f(x_0) \\,\\vert\\mathcal{X}\\right] + \\text{Var}\\left[\\hat f(x_0) \\,\\vert\\mathcal{X}\\right]\n",
    "\\end{align}\n"
   ]
  },
  {
   "cell_type": "markdown",
   "metadata": {
    "collapsed": true
   },
   "source": [
    "**(c) Decompose the (unconditional) mean-squared error\n",
    "$$\n",
    "E_{\\mathcal{Y}, \\mathcal{X}}\\left(f(x_0) - \\hat f(x_0)\\right)^2\n",
    "$$\n",
    "into a squared bias and a variance component.**\n",
    "\n",
    "There are two options, the obvious one is to use again the same trick as always and find\n",
    "\n",
    "$$\n",
    "E_{\\mathcal{Y}, \\mathcal{X}}\\left(f(x_0) - \\hat f(x_0)\\right)^2 = \\text{Bias}^2\\left[\\hat f(x_0)\\right] + \\text{Var}\\left[\\hat f(x_0)\\right]\n",
    "$$\n",
    "\n",
    "The other option is to compute the expected value of the conditional MSE,\n",
    "\n",
    "$$\n",
    "E_{\\mathcal{Y}, \\mathcal{X}}\\left(f(x_0) - \\hat f(x_0)\\right)^2 = E_{\\mathcal{X}}E_{\\mathcal{Y}\\vert\\mathcal{X}}\\left[\\left(f(x_0) - \\hat f(x_0)\\right)^2\\right]\n",
    "$$\n",
    "\n",
    "For the variance term, we can use the law of total variance to get\n",
    "\n",
    "$$\n",
    "E_{\\mathcal{X}}\\left[\\text{Var}\\left[\\hat f(x_0) \\,\\vert\\mathcal{X}\\right]\\right] = \\text{Var}\\left[\\hat f(x_0)\\right] - \\text{Var}\\left[E\\left[\\hat f(x_0) \\,\\vert\\mathcal{X}\\right]\\right]\n",
    "$$\n",
    "\n",
    "For the bias term, we can add and subtract $E_\\mathcal{X}\\left[E_{\\mathcal{Y}\\vert\\mathcal{X}}\\left[\\hat f(x_0)\\,\\vert\\mathcal{X}\\right]\\right]$ and proceed as usual:\n",
    "\n",
    "\\begin{align}\n",
    "E_\\mathcal{X}\\left[\\text{Bias}^2\\left[\\hat f(x_0)\\,\\vert\\mathcal{X}\\right]\\right] &= E_\\mathcal{X}\\left[\\left(E_{\\mathcal{Y}\\vert\\mathcal{X}}\\left[\\hat f(x_0) - f(x_0)\\right]\\right)^2\\right]\\\\\n",
    "&= E_\\mathcal{X}\\left[\\left(E_{\\mathcal{Y}\\vert\\mathcal{X}}\\left[\\hat f(x_0) -E_\\mathcal{X}\\left[E_{\\mathcal{Y}\\vert\\mathcal{X}}\\left[\\hat f(x_0)\\,\\vert\\mathcal{X}\\right]\\right] + E_\\mathcal{X}\\left[E_{\\mathcal{Y}\\vert\\mathcal{X}}\\left[\\hat f(x_0)\\,\\vert\\mathcal{X}\\right]\\right] -f(x_0)\\right]\\right)^2\\right]\\\\\n",
    "&= \\text{Var}\\left[E\\left[\\hat f(x_0) \\,\\vert\\mathcal{X}\\right]\\right] + \\text{Bias}^2\\left[\\hat f(x_0)\\right]\n",
    "\\end{align}\n",
    "\n",
    "Adding both terms we get the same result as before."
   ]
  },
  {
   "cell_type": "markdown",
   "metadata": {},
   "source": [
    "**(d) Establish a relationship between the squared biases and variances in the above two cases.**\n",
    "\n",
    "I don't understand the question. It could mean to establish a relationship between the conditional and unconditional squared biases and variances. In that case, I have established such a relationship in the previous answer. It could also mean to relate the biases and variances of the least squares and k-NN models. In that case, I don't think we can do much without knowing the true function $f(x_0)$. The bias depends directly on $f$, and the variance depends on $\\hat f$, but the estimator depends on the true function through the $y_i$.\n",
    "\n",
    "We could proceed if we assumed $f$ to be a linear regression (the wording of the exercise states that $f$ is a *regression function*), but both cases, the linear least squares and the k-NN, have been done in the book (Section 2.5 and Exercise 2.5 for the least squares and Section 2.9 for the k-NN)."
   ]
  },
  {
   "cell_type": "markdown",
   "metadata": {
    "collapsed": true
   },
   "source": [
    "### Exercise 2.8\n",
    "\n",
    "**Compare the classification performance of linear regression and k-nearest neighbor classification on the zipcode data. In particular, consider only the $2$’s and $3$’s, and $k = 1, 3, 5, 7$ and $15$. Show both the training and test error for each choice. The zipcode data are available from the book website [web.stanford.edu/~hastie/ElemStatLearn/](https://web.stanford.edu/~hastie/ElemStatLearn/).**"
   ]
  },
  {
   "cell_type": "markdown",
   "metadata": {},
   "source": [
    "The linear regression will produce continuous outputs between $\\left(-\\infty, +\\infty\\right)$. To use it as a classifier, we must set a threshold. For the moment, I'm using a value of 2.5, so any value predicted to be less than 2.5 will be classified as a 2, and any value equal or greater than 2.5 will be classified as a 3.\n",
    "\n",
    "As a metric, I'll use the accuracy, which for a binary classification is \n",
    "\n",
    "\\begin{equation}\n",
    "\\text{Accuracy} = \\frac{\\text{# of correct predictions}}{\\text{# of total predictions}}\n",
    "\\end{equation}\n",
    "\n",
    "We might argue whether this is the best possible metric. If the classes (digits 2 and 3) were equiprobable, it would be a good metric, but if there was some class imbalance, let's say more 2's than 3's, the accuracy would favour classifiers that predict more 2's. As a first approximation, we can expect the digits of a ZIP code to follow Benford's law. [For four or more digits](https://en.wikipedia.org/wiki/Benford%27s_law#Generalization_to_digits_beyond_the_first), Benford's law ensures that the distribution is approximately uniform.\n",
    "\n",
    "In a more in depth analysis we should question if the ZIP code's digits are really uniform, taking into account facts like the geographical distribution and the amount of mail that each zone receives, but we don't need that for the purposes of the exercise."
   ]
  },
  {
   "cell_type": "code",
   "execution_count": 1,
   "metadata": {},
   "outputs": [
    {
     "name": "stdout",
     "output_type": "stream",
     "text": [
      "Linear regression classifier\n",
      "============================\n",
      "Train accuracy:   0.9942\tTest accuracy:   0.9588\n",
      "Train error rate: 0.0058\tTest error rate: 0.0412\n",
      "\n",
      "\n",
      "K-nearest neighbors\n",
      "===================\n",
      "k = 1\n",
      "------\n",
      "Train accuracy:   1.0000\tTest accuracy:   0.9753\n",
      "Train error rate: 0.0000\tTest error rate: 0.0247\n",
      "\n",
      "k = 3\n",
      "------\n",
      "Train accuracy:   0.9950\tTest accuracy:   0.9698\n",
      "Train error rate: 0.0050\tTest error rate: 0.0302\n",
      "\n",
      "k = 5\n",
      "------\n",
      "Train accuracy:   0.9942\tTest accuracy:   0.9698\n",
      "Train error rate: 0.0058\tTest error rate: 0.0302\n",
      "\n",
      "k = 7\n",
      "------\n",
      "Train accuracy:   0.9935\tTest accuracy:   0.9670\n",
      "Train error rate: 0.0065\tTest error rate: 0.0330\n",
      "\n",
      "k = 15\n",
      "------\n",
      "Train accuracy:   0.9906\tTest accuracy:   0.9615\n",
      "Train error rate: 0.0094\tTest error rate: 0.0385\n",
      "\n"
     ]
    }
   ],
   "source": [
    "import numpy as np\n",
    "from sklearn.neighbors import KNeighborsClassifier\n",
    "from sklearn.linear_model import LinearRegression\n",
    "from sklearn.metrics import accuracy_score\n",
    "\n",
    "# Load the train and test files\n",
    "train_file = './data/zipcode/zip.train.gz'\n",
    "test_file = './data/zipcode/zip.test.gz'\n",
    "\n",
    "train = np.loadtxt(train_file)\n",
    "test = np.loadtxt(test_file)\n",
    "\n",
    "# Keep only the 2's and 3's\n",
    "mask_train = np.isin(train[:, 0], [2, 3])\n",
    "mask_test = np.isin(test[:, 0], [2, 3])\n",
    "\n",
    "train = train[mask_train, :]\n",
    "test = test[mask_test, :]\n",
    "\n",
    "# Linear regression\n",
    "lm = LinearRegression()\n",
    "lm.fit(train[:, 1:], train[:, 0])\n",
    "\n",
    "threshold = 2.5\n",
    "\n",
    "predict_lm_train = lm.predict(train[:, 1:]) >= threshold\n",
    "predict_lm_test = lm.predict(test[:, 1:]) >= threshold\n",
    "\n",
    "accuracy_lm_train = accuracy_score(train[:, 0] == 3, predict_lm_train)\n",
    "accuracy_lm_test = accuracy_score(test[:, 0] == 3, predict_lm_test)\n",
    "\n",
    "# k-NN\n",
    "nneighbors = [1, 3, 5, 7, 15]\n",
    "accuracy_kn_train = dict()\n",
    "accuracy_kn_test = dict()\n",
    "\n",
    "for k in nneighbors:\n",
    "    kn = KNeighborsClassifier(k)\n",
    "    kn.fit(train[:, 1:], train[:, 0])\n",
    "    \n",
    "    predict_kn_train = kn.predict(train[:, 1:])\n",
    "    predict_kn_test = kn.predict(test[:, 1:])\n",
    "    \n",
    "    accuracy_kn_train[k] = accuracy_score(train[:, 0], predict_kn_train)\n",
    "    accuracy_kn_test[k] = accuracy_score(test[:, 0], predict_kn_test)\n",
    "\n",
    "# Print the accuracies and errors\n",
    "print('Linear regression classifier\\n============================')\n",
    "print('Train accuracy: {:8.4f}\\tTest accuracy: {:8.4f}'.format(accuracy_lm_train, accuracy_lm_test))\n",
    "print('Train error rate: {:6.4f}\\tTest error rate: {:5.4f}'.format(1 - accuracy_lm_train, 1 - accuracy_lm_test))\n",
    "print('\\n')\n",
    "print('K-nearest neighbors\\n===================')\n",
    "for k in nneighbors:\n",
    "    print('k = {}\\n------'.format(k))\n",
    "    print('Train accuracy: {:8.4f}\\tTest accuracy: {:8.4f}'.format(accuracy_kn_train[k], accuracy_kn_test[k]))\n",
    "    print('Train error rate: {:.4f}\\tTest error rate: {:5.4f}\\n'.format(1 - accuracy_kn_train[k], 1 - accuracy_kn_test[k]))\n"
   ]
  },
  {
   "cell_type": "markdown",
   "metadata": {},
   "source": [
    "As we can see, the 1 nearest neighbor is the best classifier in the test set and, obviously, also in the training set. Higher values of $k$ reduce the accuracy.\n",
    "\n",
    "The linear classifier is the worst model. One might ask whether we could improve its accuracy by choosing a different threshold. In order to explore all possible thresholds, it's better to use a Ridge classifier, which boils down to a linear classifier when we set the $\\alpha$ parameter to $0$. This way we can use sklearn's metrics for classifiers to get a ROC curve."
   ]
  },
  {
   "cell_type": "code",
   "execution_count": 5,
   "metadata": {
    "scrolled": true
   },
   "outputs": [
    {
     "data": {
      "image/png": "[encoded data removed]",
      "text/plain": [
       "<matplotlib.figure.Figure at 0x7fb33a910a58>"
      ]
     },
     "metadata": {},
     "output_type": "display_data"
    }
   ],
   "source": [
    "from sklearn.linear_model import RidgeClassifier\n",
    "import matplotlib.pyplot as plt\n",
    "from sklearn.metrics import roc_curve, confusion_matrix\n",
    "\n",
    "# Linear regression classification\n",
    "lc = RidgeClassifier(alpha=0.)\n",
    "lc.fit(train[:, 1:], train[:, 0])\n",
    "\n",
    "fpr_lc, tpr_lc, thresholds_lc = roc_curve(test[:, 0], lc.decision_function(test[:, 1:]), pos_label=3)\n",
    "\n",
    "tn, fp, fn, tp = confusion_matrix(test[:, 0] == 3, predict_lm_test).ravel()\n",
    "fpr_lm = fp / (fp + tn)\n",
    "tpr_lm = tp / (tp + fn)\n",
    "plt.plot(fpr_lm, tpr_lm, 'o', label='Threshold = 2.5')\n",
    "plt.plot(fpr_lc, tpr_lc, label='ROC curve')\n",
    "plt.legend()\n",
    "plt.xlabel('False 3\\'s rate')\n",
    "plt.ylabel('True 3\\'s rate')\n",
    "plt.show()"
   ]
  },
  {
   "cell_type": "markdown",
   "metadata": {
    "collapsed": true
   },
   "source": [
    "The plot shows the ROC curve with class '3' as 'positive' and the point where the 2.5 threshold model lies. We can see that it is one of the best points in the curve, but a closer inspection reveals that either lowering or rising the threshold a little would make the model better.\n",
    "\n",
    "The 2.5 threshold is the 13th element in the arrays, since"
   ]
  },
  {
   "cell_type": "code",
   "execution_count": 6,
   "metadata": {},
   "outputs": [
    {
     "data": {
      "text/plain": [
       "(array([13, 14]),)"
      ]
     },
     "execution_count": 6,
     "metadata": {},
     "output_type": "execute_result"
    }
   ],
   "source": [
    "np.where(fpr_lc == fpr_lm)"
   ]
  },
  {
   "cell_type": "code",
   "execution_count": 7,
   "metadata": {},
   "outputs": [
    {
     "data": {
      "text/plain": [
       "(array([12, 13]),)"
      ]
     },
     "execution_count": 7,
     "metadata": {},
     "output_type": "execute_result"
    }
   ],
   "source": [
    "np.where(tpr_lc == tpr_lm)"
   ]
  },
  {
   "cell_type": "markdown",
   "metadata": {},
   "source": [
    "But the 12th and 14th elements have better accuracies than the 13th. Their true positive and false positive rates are"
   ]
  },
  {
   "cell_type": "code",
   "execution_count": 14,
   "metadata": {},
   "outputs": [
    {
     "name": "stdout",
     "output_type": "stream",
     "text": [
      "\t12th\t13th\t14th\n",
      "TPR:\t0.9518\t0.9518\t0.9639\n",
      "FPR:\t0.0303\t0.0354\t0.0354\n"
     ]
    }
   ],
   "source": [
    "print('\\t12th\\t13th\\t14th')\n",
    "print('TPR:\\t{:6.4f}\\t{:6.4f}\\t{:6.4f}'.format(*tpr_lc[12:15]))\n",
    "print('FPR:\\t{:6.4f}\\t{:6.4f}\\t{:6.4f}'.format(*fpr_lc[12:15]))"
   ]
  },
  {
   "cell_type": "markdown",
   "metadata": {},
   "source": [
    "As we can see, the 12th element, with smaller threshold than 2.5, has the same TPR but smaller FPR; while the 14th element, with higher threshold, has the same FRP but greater TPR. Since the accuracy can also be written as\n",
    "\n",
    "\\begin{equation}\n",
    "\\text{Accuracy} = \\frac{\\text{# of correct predictions}}{\\text{# of total predictions}} = \\frac{\\text{TPR}\\times\\text{# of condition positive instances} + \\left(1-\\text{FPR}\\right)\\times\\text{# of condition negative instances}}{\\text{# of total predictions}}\n",
    "\\end{equation}\n",
    "\n",
    "either option has better accuracy than the 2.5 threshold. In particular, the accuracies are"
   ]
  },
  {
   "cell_type": "code",
   "execution_count": 23,
   "metadata": {},
   "outputs": [
    {
     "name": "stdout",
     "output_type": "stream",
     "text": [
      "\t12th\t13th\t14th\n",
      "Acc:\t0.9615\t0.9588\t0.9643\n"
     ]
    }
   ],
   "source": [
    "def acc(tpr, fpr, cp, cn):\n",
    "    return (tpr*cp + (1 - fpr)*cn)/(cp + cn)\n",
    "\n",
    "cp = np.sum(test[:, 0] == 3)\n",
    "cn = np.sum(test[:, 0] == 2)\n",
    "\n",
    "accuracies = np.array([acc(tpr_lc[i], fpr_lc[i], cp, cn) for i in range(len(tpr_lc))])\n",
    "\n",
    "print('\\t12th\\t13th\\t14th')\n",
    "print('Acc:\\t{:6.4f}\\t{:6.4f}\\t{:6.4f}'.format(*accuracies[12:15]))"
   ]
  },
  {
   "cell_type": "markdown",
   "metadata": {},
   "source": [
    "The 14th threshold yields the maximum accuracy amongst all possible values (although there is another threshold with the same accuracy)."
   ]
  },
  {
   "cell_type": "code",
   "execution_count": 29,
   "metadata": {},
   "outputs": [
    {
     "name": "stdout",
     "output_type": "stream",
     "text": [
      "Max. accuracy at value:  14\n",
      "# of thresholds with the max. accuracy:  2\n"
     ]
    }
   ],
   "source": [
    "print('Max. accuracy at value: ', accuracies.argmax())\n",
    "print('# of thresholds with the max. accuracy: ', np.sum(accuracies == accuracies[accuracies.argmax()]))"
   ]
  },
  {
   "cell_type": "markdown",
   "metadata": {
    "collapsed": true
   },
   "source": [
    "### Exercise 2.9\n",
    "\n",
    "**Consider a linear regression model with $p$ parameters, fit by least squares to a set of training data $(x_1,y_1)\\ldots(x_N,y_N)$ drawn at random from a population. Let $\\hat\\beta$ be the least squares estimate. Suppose we have some test data $(\\tilde x_1,\\tilde y_1)\\ldots(\\tilde x_M,\\tilde y_M)$ drawn at random from the same population as the training data. If $R_\\text{tr}(\\beta) = \\frac{1}{N}\\sum_{i=1}^N\\left(y_i - \\beta^Tx_i\\right)^2$ and $R_\\text{te}(\\beta) = \\frac{1}{M}\\sum_{i=1}^M\\left(\\tilde y_i - \\beta^T\\tilde x_i\\right)^2$, prove that**\n",
    "\n",
    "$$\n",
    "E\\left[R_\\text{tr}\\left(\\hat\\beta\\right)\\right] \\leq E\\left[R_\\text{te}\\left(\\hat\\beta\\right)\\right]\n",
    "$$\n",
    "\n",
    "**where the expectations are over all that is random in each expression.**"
   ]
  },
  {
   "cell_type": "markdown",
   "metadata": {},
   "source": [
    "Let us call the training set $\\mathcal{T} = \\lbrace(x_1,y_1)\\ldots(x_N,y_N)\\rbrace$, and the test set $\\tilde{\\mathcal{T}} = \\lbrace(\\tilde x_1,\\tilde y_1)\\ldots(\\tilde x_M,\\tilde y_M)\\rbrace$. $\\hat\\beta$ is a random variable that depends on the training set $\\mathcal{T}$.\n",
    "\n",
    "The only difference between both MSE is that $\\hat\\beta$ depends on the training set, but is independent from the test set. To exploit this fact, we'll use two inequalities:\n",
    "\n",
    "* $E\\left[XY\\right] \\geq E\\left[X\\right]E\\left[Y\\right]$, with the equality being satisfied if $X$ and $Y$ are independent.\n",
    "* Jensen's inequality, that allows us to use $E\\left[\\left(X\\right)^2\\right] \\geq \\left(E\\left[X\\right]\\right)^2$.\n",
    "\n",
    "We also need to use the fact that $\\mathcal{T}$ and $\\tilde{\\mathcal{T}}$ are drawn from the same distribution, so any pair of training and test instances have the same expected values.\n",
    "\n",
    "Let's start by using the linearity of the expected value and the independence of each $\\left(x_i, y_i\\right)$ pair.\n",
    "\n",
    "\\begin{align}\n",
    "E_\\mathcal{T}\\left[R_\\text{tr}\\left(\\hat\\beta\\right)\\right] &= \\frac{1}{N}\\sum_{i=1}^NE_\\mathcal{T}\\left[\\left(y_i - \\beta^Tx_i\\right)^2\\right] = E_\\mathcal{T}\\left[\\left(y - \\hat\\beta^T x\\right)^2\\right] \\\\\n",
    "E_{\\mathcal{T},\\tilde{\\mathcal{T}}}\\left[R_\\text{te}\\left(\\hat\\beta\\right)\\right] &= \\frac{1}{M}\\sum_{i=1}^M E_{\\mathcal{T},\\tilde{\\mathcal{T}}}\\left[\\left(\\tilde y_i - \\beta^T \\tilde x_i\\right)^2\\right] = E_{\\mathcal{T},\\tilde{\\mathcal{T}}} \\left[\\left(\\tilde y - \\hat\\beta^T \\tilde x\\right)^2\\right]\n",
    "\\end{align}\n",
    "\n",
    "Let us expand the squares and condition the test MSE to the training set,\n",
    "\n",
    "\\begin{align}\n",
    "E_\\mathcal{T}\\left[R_\\text{tr}\\left(\\hat\\beta\\right)\\right] &= E_\\mathcal{T}\\left[y^2\\right] + E_\\mathcal{T}\\left[\\left(\\hat\\beta^T x\\right)^2\\right] - 2E_\\mathcal{T}\\left[y\\hat\\beta^T x\\right] \\\\\n",
    "E_{\\mathcal{T},\\tilde{\\mathcal{T}}}\\left[R_\\text{te}\\left(\\hat\\beta\\right)\\right] &= E_{\\mathcal{T}}E_{\\tilde{\\mathcal{T}}}\\left[\\tilde y^2 + \\left(\\hat\\beta^T \\tilde x\\right)^2 - 2\\tilde y \\hat\\beta^T \\tilde x \\vert \\mathcal{T}\\right] \\\\\n",
    "&= E_{\\tilde{\\mathcal{T}}}\\left[\\tilde y^2\\right] + E_\\mathcal{T} E_{\\tilde{\\mathcal{T}}}\\left[ \\left(\\hat\\beta^T \\tilde x\\right)^2 \\vert \\mathcal{T} \\right] - 2E_\\mathcal{T} E_{\\tilde{\\mathcal{T}}}\\left[ \\tilde y \\hat\\beta^T \\tilde x \\vert \\mathcal{T} \\right]\n",
    "\\end{align}\n",
    "\n",
    "We'll now compare both expressions term by term. The first one is the same because training and test instances are drawn from the same population\n",
    "\n",
    "$$\n",
    "E_{\\tilde{\\mathcal{T}}}\\left[\\tilde y^2\\right] = E_{\\mathcal{T}}\\left[y^2\\right]\n",
    "$$\n",
    "\n",
    "In the second one, we can use Jensen's conditional inequality in the test term,\n",
    "\n",
    "$$\n",
    "E_\\mathcal{T} E_{\\tilde{\\mathcal{T}}}\\left[ \\left(\\hat\\beta^T \\tilde x\\right)^2 \\vert \\mathcal{T} \\right] \\geq E_\\mathcal{T} \\left[\\left(E_{\\tilde{\\mathcal{T}}}\\left[ \\hat\\beta^T \\tilde x \\vert \\mathcal{T} \\right]\\right)^2 \\right]\n",
    "$$\n",
    "\n",
    "Subtracting the training term to this last expression and using $E\\left[XY\\right] \\geq E\\left[X\\right]E\\left[Y\\right]$,\n",
    "\n",
    "\\begin{align}\n",
    "E_\\mathcal{T}\\left[\\left(\\hat\\beta^T E_\\mathcal{T}\\left[x\\right]\\right)^2 - \\left(\\hat\\beta^T x\\right)^2\\right] &= E_\\mathcal{T}\\left[\\hat\\beta^T\\left(E_\\mathcal{T}\\left[x\\right] + x \\right) \\hat\\beta^T \\left(E_\\mathcal{T}\\left[x\\right] - x \\right)\\right]\\\\\n",
    "&\\geq E_\\mathcal{T}\\left[\\hat\\beta^T\\left(E_\\mathcal{T}\\left[x\\right] + x \\right) \\hat\\beta^T\\right]E_\\mathcal{T}\\left[E_\\mathcal{T}\\left[x\\right] - x\\right] = 0\n",
    "\\end{align}\n",
    "\n",
    "Then,\n",
    "\n",
    "$$\n",
    "E_\\mathcal{T} E_{\\tilde{\\mathcal{T}}}\\left[ \\left(\\hat\\beta^T \\tilde x\\right)^2 \\vert \\mathcal{T} \\right] \\geq E_\\mathcal{T}\\left[\\left(\\hat\\beta^T x\\right)^2\\right]\n",
    "$$\n",
    "\n",
    "Finally, in the third test term it is easier to swap the order of the dot product to group training and test terms,\n",
    "\n",
    "\\begin{align}\n",
    "-2E_\\mathcal{T} E_{\\tilde{\\mathcal{T}}}\\left[ \\tilde y \\hat\\beta^T \\tilde x \\vert \\mathcal{T} \\right] &= -2E_\\mathcal{T} E_{\\tilde{\\mathcal{T}}}\\left[ \\tilde y  \\tilde x^T \\hat\\beta \\vert \\mathcal{T} \\right]\\\\\n",
    "&= -2E_\\mathcal{T}\\left[E_{\\tilde{\\mathcal{T}}}\\left[ \\tilde y  \\tilde x^T\\right] \\hat\\beta\\right] \\\\\n",
    "&= -2E_{\\tilde{\\mathcal{T}}}\\left[ \\tilde y  \\tilde x^T\\right] E_\\mathcal{T}\\left[\\hat\\beta\\right] \\\\\n",
    "&= -2E_{\\mathcal{T}}\\left[ y x^T\\right] E_\\mathcal{T}\\left[\\hat\\beta\\right] \\\\\n",
    "&\\geq -2E_\\mathcal{T}\\left[y x^T \\hat\\beta \\right]\n",
    "\\end{align}\n",
    "\n",
    "In the last inequality we have used again $E\\left[XY\\right] \\geq E\\left[X\\right]E\\left[Y\\right]$. Since each of the three test terms is greater than or equal to the corresponding training term, we have proven that\n",
    "\n",
    "$$\n",
    "E\\left[R_\\text{tr}\\left(\\hat\\beta\\right)\\right] \\leq E\\left[R_\\text{te}\\left(\\hat\\beta\\right)\\right]\n",
    "$$"
   ]
  },
  {
   "cell_type": "markdown",
   "metadata": {},
   "source": [
    "It is worth mentioning that we haven't used the exact dependence of $\\hat\\beta$ on the training set anywhere. Therefore, the result is valid for any linear regression estimator, including those in which $\\hat\\beta$ is obtained by other methods different from ordinary least squares. This result is a mathematical proof for a linear regression model of the fact that we should expect the test error to be greater than the training error."
   ]
  }
 ],
 "metadata": {
  "kernelspec": {
   "display_name": "Python 3",
   "language": "python",
   "name": "python3"
  },
  "language_info": {
   "codemirror_mode": {
    "name": "ipython",
    "version": 3
   },
   "file_extension": ".py",
   "mimetype": "text/x-python",
   "name": "python",
   "nbconvert_exporter": "python",
   "pygments_lexer": "ipython3",
   "version": "3.6.1"
  }
 },
 "nbformat": 4,
 "nbformat_minor": 2
}
